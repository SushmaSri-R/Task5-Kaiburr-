import pandas as pd
import re, string
from sklearn.model_selection import train_test_split
from sklearn.feature_extraction.text import TfidfVectorizer
from sklearn.linear_model import LogisticRegression
from sklearn.metrics import classification_report, confusion_matrix, accuracy_score
import seaborn as sns
import matplotlib.pyplot as plt

# --- 1. Load dataset directly from URL ---
url = "https://raw.githubusercontent.com/justmarkham/pycon-2016-tutorial/master/data/sms.tsv"
df = pd.read_csv(url, sep='\t', header=None, names=['label','text'])

# --- 2. Map labels to numbers ---
label_map = {'ham': 0, 'spam': 1}
df['target'] = df['label'].map(label_map)

# --- 3. Preprocess text ---
def clean_text(text):
    text = str(text).lower()
    text = re.sub(r"http\S+|www.\S+", " ", text)
    text = text.translate(str.maketrans('', '', string.punctuation))
    return text

df['text_clean'] = df['text'].apply(clean_text)

# --- 4. Train/Test split ---
X_train, X_test, y_train, y_test = train_test_split(
    df['text_clean'], df['target'], test_size=0.2, stratify=df['target'], random_state=42
)

# --- 5. TF-IDF + Logistic Regression ---
tfidf = TfidfVectorizer(max_features=5000, ngram_range=(1,2))
X_train_tfidf = tfidf.fit_transform(X_train)
X_test_tfidf = tfidf.transform(X_test)

clf = LogisticRegression(max_iter=500, class_weight='balanced')
clf.fit(X_train_tfidf, y_train)
y_pred = clf.predict(X_test_tfidf)

# --- 6. Evaluation ---
print("Accuracy:", accuracy_score(y_test, y_pred))
print("\nClassification Report:\n", classification_report(y_test, y_pred))

cm = confusion_matrix(y_test, y_pred)
sns.heatmap(cm, annot=True, fmt="d", cmap="Blues")
plt.xlabel("Predicted")
plt.ylabel("True")
plt.show()

# --- 7. Sample predictions ---
samples = [
    "Win a free ticket now by replying YES",
    "Hey, are we still meeting for dinner tonight?",
    "Congratulations! You have won $1000",
    "Can you call me back later?"
]
preds = clf.predict(tfidf.transform(samples))
print("\nSample Predictions:")
for s, p in zip(samples, preds):
    print(f"{s} → {p}")
